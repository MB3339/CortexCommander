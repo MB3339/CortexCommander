{
 "cells": [
  {
   "cell_type": "markdown",
   "id": "a2c22f5e",
   "metadata": {},
   "source": [
    "## Simple MultiAI agent Architecture"
   ]
  },
  {
   "cell_type": "code",
   "execution_count": 1,
   "id": "f8372a22",
   "metadata": {},
   "outputs": [],
   "source": [
    "import os\n",
    "from typing import TypedDict, Annotated, List, Literal\n",
    "from langchain_core.messages import BaseMessage, AIMessage, HumanMessage, SystemMessage\n",
    "from langchain_groq import ChatGroq\n",
    "from langchain_core.tools import tool\n",
    "from langchain_community.tools.tavily_search  import TavilySearchResults\n",
    "from langgraph.graph import StateGraph,END\n",
    "from langgraph.prebuilt import create_react_agent\n",
    "from langgraph.checkpoint.memory import MemorySaver\n"
   ]
  },
  {
   "cell_type": "code",
   "execution_count": 2,
   "id": "232e012b",
   "metadata": {},
   "outputs": [],
   "source": [
    "import os\n",
    "from dotenv import load_dotenv\n",
    "load_dotenv()\n",
    "\n",
    "os.environ[\"GROQ_API_KEY\"] = os.getenv(\"GROQ_API_KEY\")"
   ]
  },
  {
   "cell_type": "code",
   "execution_count": 3,
   "id": "6d97bce4",
   "metadata": {},
   "outputs": [],
   "source": [
    "from langgraph.graph import StateGraph, END, MessagesState\n",
    "from langgraph.prebuilt import ToolNode\n",
    "from langgraph.checkpoint.memory import MemorySaver\n"
   ]
  },
  {
   "cell_type": "code",
   "execution_count": 4,
   "id": "2d03120e",
   "metadata": {},
   "outputs": [],
   "source": [
    "# Define the state for the agent\n",
    "class AgentState(MessagesState):\n",
    "    next_agent:str #which agent to call next"
   ]
  },
  {
   "cell_type": "code",
   "execution_count": 5,
   "id": "fc0cbe92",
   "metadata": {},
   "outputs": [],
   "source": [
    "# Creating  simple tools\n",
    "@tool\n",
    "def search_web(query:str)-> str:\n",
    "    \"\"\"Search the web for information.\"\"\"\n",
    "    # using TavilySearchResults to perform a web search\n",
    "    search=TavilySearchResults(max_results=5)\n",
    "    results=search.invoke(query)\n",
    "    return str(results)\n",
    "\n",
    "@tool\n",
    "def write_summary(content:str)-> str:\n",
    "    \"\"\"write a summary of the provided content.\"\"\"\n",
    "    #Simple summary generation\n",
    "    summary=f'summary of findings:\\n \\n {content[:500]}...'\n",
    "    return summary\n"
   ]
  },
  {
   "cell_type": "code",
   "execution_count": 6,
   "id": "106ebeba",
   "metadata": {},
   "outputs": [
    {
     "data": {
      "text/plain": [
       "ChatGroq(client=<groq.resources.chat.completions.Completions object at 0x0000019570045710>, async_client=<groq.resources.chat.completions.AsyncCompletions object at 0x00000195701987D0>, model_name='deepseek-r1-distill-llama-70b', temperature=1e-08, reasoning_format='parsed', model_kwargs={}, groq_api_key=SecretStr('**********'))"
      ]
     },
     "execution_count": 6,
     "metadata": {},
     "output_type": "execute_result"
    }
   ],
   "source": [
    "from langchain.chat_models import init_chat_model\n",
    "llm = ChatGroq(\n",
    "    model=\"deepseek-r1-distill-llama-70b\",\n",
    "    temperature=0,\n",
    "    max_tokens=None,\n",
    "    reasoning_format=\"parsed\",\n",
    "    timeout=None,\n",
    "    max_retries=2,\n",
    "    # other params...\n",
    ")\n",
    "llm"
   ]
  },
  {
   "cell_type": "code",
   "execution_count": 7,
   "id": "91892189",
   "metadata": {},
   "outputs": [],
   "source": [
    "# Define agent Functions\n",
    "\n",
    "def researcher_agent(state:AgentState):\n",
    "    \"\"\"Researcher agent the searches the web for information.\"\"\"\n",
    "\n",
    "    messages=state['messages']\n",
    "\n",
    "    #add the system for context \n",
    "    system_msg=SystemMessage(content= \"You are a research assistant. Use the search_web tool to find information on the topic which user request.\")\n",
    "    \n",
    "    # Call the LLM with the messages\n",
    "    researcher_llm=llm.bind_tools([search_web])\n",
    "    response=researcher_llm.invoke([system_msg]+ messages)\n",
    "\n",
    "    # Return the response and route to writer agent\n",
    "\n",
    "    return{\n",
    "        \"messages\":[response],\n",
    "        \"next_agent\":\"writer\"\n",
    "    }"
   ]
  },
  {
   "cell_type": "code",
   "execution_count": 8,
   "id": "45af8930",
   "metadata": {},
   "outputs": [],
   "source": [
    "def writer_agent(state:AgentState):\n",
    "    \"\"\"writer agent that creates a summary of the findings.\"\"\"\n",
    "    messages=state['messages']\n",
    "\n",
    "    # Add system message\n",
    "    system_msg=SystemMessage(content=\"You are a technical writer. Review the converstation and create a clear, concise summary of the findings\")\n",
    "\n",
    "    # Simple completion without tools\n",
    "    response=llm.invoke([system_msg]+ messages)\n",
    "\n",
    "    return {\n",
    "        \"messages\":[response],\n",
    "        \"next_agent\":'END'  # End the workflow after writing\n",
    "    }\n"
   ]
  },
  {
   "cell_type": "code",
   "execution_count": 9,
   "id": "048ed116",
   "metadata": {},
   "outputs": [],
   "source": [
    "# Tool executor node\n",
    "\n",
    "def execute_tools(state:AgentState):\n",
    "    \"\"\"Execute any pending tool calls.\"\"\"\n",
    "    messages=state['messages']\n",
    "    last_message=messages[-1]\n",
    "\n",
    "\n",
    "    # check if there are any tools calls to execute\n",
    "    if hasattr(last_message, \"tool_calls\") and last_message.tool_calls:\n",
    "       #create tool node and execute the tool\n",
    "       tool_node=ToolNode([search_web, write_summary])\n",
    "       response=tool_node.invoke(state)\n",
    "       return response\n",
    "    \n",
    "    # No tools to execute\n",
    "    return state\n",
    " "
   ]
  },
  {
   "cell_type": "code",
   "execution_count": 10,
   "id": "349f8348",
   "metadata": {},
   "outputs": [
    {
     "data": {
      "image/png": "[encoded data removed]",
      "text/plain": [
       "<langgraph.graph.state.CompiledStateGraph object at 0x00000195701A9150>"
      ]
     },
     "execution_count": 10,
     "metadata": {},
     "output_type": "execute_result"
    }
   ],
   "source": [
    "# Build the graph\n",
    "workflow = StateGraph(MessagesState)\n",
    "\n",
    "#Add nodes\n",
    "workflow.add_node(\"researcher\", researcher_agent)\n",
    "workflow.add_node(\"writer\",writer_agent)\n",
    "\n",
    "# define the flow\n",
    "workflow.set_entry_point(\"researcher\")\n",
    "workflow.add_edge(\"researcher\",'writer')\n",
    "workflow.add_edge(\"writer\", END)\n",
    "final_workflow=workflow.compile()\n",
    "\n",
    "final_workflow\n",
    "\n"
   ]
  },
  {
   "cell_type": "code",
   "execution_count": 11,
   "id": "c237465c",
   "metadata": {},
   "outputs": [
    {
     "data": {
      "text/plain": [
       "{'messages': [HumanMessage(content='Research about the use case of MIRV Technology in modern warfare.', additional_kwargs={}, response_metadata={}, id='1cff652f-0ad0-4ae3-87a3-dffa78d7d3ea'),\n",
       "  AIMessage(content=\"To address the use case of MIRV (Multiple Independently Targetable Reentry Vehicle) technology in modern warfare, we must consider its strategic, technical, and geopolitical implications:\\n\\n1. **Strategic Deterrence**: MIRV technology allows a single missile to carry multiple warheads, each targeting different locations. This enhances the deterrent effect by increasing the potential damage an adversary might suffer, thus discouraging an attack.\\n\\n2. **Overwhelming Missile Defenses**: By deploying multiple warheads from one missile, MIRV technology can saturate and overwhelm missile defense systems, making it harder for defenders to intercept all incoming threats.\\n\\n3. **Balance of Power**: Countries like the United States, Russia, and China use MIRV technology to maintain a strategic balance. It ensures that each nation can retaliate effectively, even if part of their arsenal is destroyed.\\n\\n4. **Technical Complexity**: MIRV involves advanced guidance systems to ensure each warhead hits its target accurately. This requires sophisticated engineering and technology to deploy and control the warheads post-launch.\\n\\n5. **Global Security Implications**: The proliferation of MIRV technology can destabilize regions by prompting arms races and complicating arms control agreements, as it allows for more warheads without increasing missile numbers.\\n\\n6. **Ethical Considerations**: The increased destructive potential of MIRV technology raises ethical concerns, as it magnifies the severity of nuclear conflict, potentially leading to hesitancy in its use but also increasing the threat perception among nations.\\n\\n7. **Modern Developments**: Countries are modernizing their MIRV systems, such as the U.S. with its GBSD program and Russia with new ICBMs, indicating ongoing reliance on this technology for future deterrence.\\n\\n8. **Naval Warfare**: Submarine-launched ballistic missiles (SLBMs) with MIRV technology provide a survivable second-strike capability, enhancing a nation's ability to retaliate after an attack.\\n\\n9. **Defense Countermeasures**: The development of MIRV technology drives advancements in missile defense systems, as nations seek to counter the threat of multiple warheads.\\n\\n10. **Economic Considerations**: The cost of developing and maintaining MIRV systems is significant, requiring nations to balance military spending with other priorities.\\n\\n11. **Future Advancements**: As technology evolves, MIRV systems may become even more sophisticated, potentially including better accuracy, more warheads, or countermeasures against missile defenses.\\n\\nIn conclusion, MIRV technology plays a crucial role in modern warfare by enhancing strategic deterrence, overwhelming defenses, and maintaining the balance of power among nuclear states. Its implications extend to global security, arms control, and economic strategies, shaping the geopolitical landscape of the 21st century.\", additional_kwargs={'reasoning_content': \"Okay, so the user is asking about the use case of MIRV Technology in modern warfare. I need to figure out how to approach this. First, I should understand what MIRV is. MIRV stands for Multiple Independently Targetable Reentry Vehicle. It's a technology used in missiles where a single missile can carry multiple warheads, each capable of hitting different targets. That makes the missile more efficient and harder to defend against.\\n\\nNow, the user wants to know how this technology is used in modern warfare. I should consider the strategic implications. MIRV technology allows a country to deploy multiple warheads from one missile, which can overwhelm missile defense systems. This is a key point because it affects the balance of power and deterrence strategies.\\n\\nI should also think about which countries currently use MIRV technology. The United States, Russia, and China are known to have MIRV-capable missiles. Each of these countries has different strategic doctrines, so the use of MIRV might vary. For example, the US might use it to maintain a strategic deterrent, while Russia could employ it to ensure their nuclear forces remain effective against expanding missile defense systems.\\n\\nAnother aspect is the impact on global security. MIRV technology can increase the number of nuclear warheads without increasing the number of missiles, which complicates arms control agreements. It also raises the risk of escalation because the potential for a massive strike is inherent in the technology.\\n\\nI should also consider the technical side. How does MIRV technology work? It involves the missile deploying multiple warheads after reaching space, each guided to a separate target. This requires advanced guidance systems and precise engineering to ensure each warhead hits its intended mark.\\n\\nAdditionally, I need to think about the ethical implications. MIRV technology increases the destructive potential of nuclear weapons, making the consequences of their use even more severe. This could lead to hesitancy in their use but also might make other nations feel threatened, prompting an arms race.\\n\\nI should also look into recent developments. Are countries modernizing their MIRV systems? For instance, the US has been working on the Ground Based Strategic Deterrent (GBSD) program, which might include MIRV technology. Similarly, Russia has been developing new ICBMs with MIRV capabilities.\\n\\nMoreover, the role of MIRV in naval warfare shouldn't be overlooked. Submarine-launched ballistic missiles (SLBMs) can also be equipped with MIRV technology, providing a second-strike capability that's harder to detect and destroy.\\n\\nI should also consider the perspective of non-nuclear states. The proliferation of MIRV technology could destabilize regions by providing a false sense of security or encouraging other nations to develop similar capabilities.\\n\\nIn terms of defense, how do countries counter MIRV-equipped missiles? Missile defense systems need to be more sophisticated to handle multiple incoming warheads. This could lead to an arms race in missile defense technology as well.\\n\\nI also need to think about the economic aspect. Developing and maintaining MIRV technology is costly. Countries need to balance the expense of these systems with other military and domestic priorities.\\n\\nLastly, I should consider the future of MIRV technology. As technology advances, we might see more sophisticated MIRV systems with better accuracy, more warheads, or even countermeasures against missile defenses. This could further complicate international relations and arms control treaties.\\n\\nSo, to summarize, the use case of MIRV technology in modern warfare involves strategic deterrence, overwhelming missile defenses, and maintaining a balance of power among nuclear states. It has significant implications for global security, arms control, and the economics of military spending. Understanding these aspects will provide a comprehensive view of how MIRV technology is used today.\\n\"}, response_metadata={'token_usage': {'completion_tokens': 1324, 'prompt_tokens': 156, 'total_tokens': 1480, 'completion_time': 5.482145647, 'prompt_time': 0.009833661, 'queue_time': 0.23153863, 'total_time': 5.491979308}, 'model_name': 'deepseek-r1-distill-llama-70b', 'system_fingerprint': 'fp_1bbe7845ec', 'service_tier': 'on_demand', 'finish_reason': 'stop', 'logprobs': None}, id='run--98f3e5ce-292a-412d-98f4-ffa7b011123e-0', usage_metadata={'input_tokens': 156, 'output_tokens': 1324, 'total_tokens': 1480}),\n",
       "  AIMessage(content=\" However, its proliferation and ethical concerns necessitate careful consideration in international relations and arms control agreements.\\n</think><think>\\nOkay, so I need to create a clear and concise summary of the findings about the use case of MIRV Technology in modern warfare. Let me start by understanding what MIRV is. MIRV stands for Multiple Independently Targetable Reentry Vehicle. From what I remember, it's a technology used in missiles where a single missile can carry multiple warheads, each capable of hitting different targets. That seems pretty complex, but I think it's mainly used in nuclear weapons.\\n\\nThe user provided a detailed response, so I should go through each point they made. They listed 11 points, from strategic deterrence to future advancements. I need to make sure I capture all these aspects without making the summary too long. \\n\\nFirst, strategic deterrence. MIRV allows one missile to carry multiple warheads, which means it can target several locations. This makes the potential damage worse for an adversary, which in turn deters them from attacking. That makes sense because if a country can retaliate with multiple warheads, others might think twice before attacking.\\n\\nNext, overwhelming missile defenses. If a missile has multiple warheads, it's harder for missile defense systems to intercept all of them. This means that even if some are intercepted, others might still get through, ensuring some damage is done. That's a key point because missile defense is a big part of modern warfare.\\n\\nThen, balance of power. Countries like the US, Russia, and China use MIRV to maintain a balance. If each can retaliate effectively, it keeps things stable. But I wonder, does this balance really lead to stability, or does it just mean everyone has more weapons?\\n\\nTechnical complexity is another point. MIRV requires advanced guidance systems to ensure each warhead hits its target. That must mean a lot of engineering and technology goes into it. I'm not sure how exactly the guidance works, but it's clear it's not simple.\\n\\nGlobal security implications. If more countries have MIRV technology, it could cause arms races and make arms control harder. That's a concern because it could lead to more weapons and less control, making the world more dangerous.\\n\\nEthical considerations. More warheads mean more destruction. This raises ethical issues because the potential for massive loss of life is higher. It might make countries hesitant to use them, but it also makes the threat more real, which could prevent attacks.\\n\\nModern developments. Countries are updating their MIRV systems, like the US with GBSD and Russia with new ICBMs. This shows that MIRV is still relevant and important for future defense strategies.\\n\\nNaval warfare. Submarine-launched missiles with MIRV provide a second-strike capability. That means even if a country's land-based missiles are destroyed, they can still retaliate from submarines, which are harder to detect.\\n\\nDefense countermeasures. Because MIRV makes missile defense harder, countries are pushed to develop better defense systems. This leads to a cycle where offense and defense technologies keep advancing.\\n\\nEconomic considerations. Developing and maintaining MIRV systems is expensive. Countries have to balance their military spending with other needs, which can be a challenge.\\n\\nFuture advancements. As technology improves, MIRV systems might become even more accurate or have more warheads. This could make them even more effective, but also more dangerous.\\n\\nPutting this all together, MIRV is a significant technology in modern warfare. It's used for deterrence, overwhelming defenses, and maintaining power balance. However, it also has downsides like high costs, ethical concerns, and the potential to destabilize global security. Countries are continuously updating their systems, which drives both offensive and defensive technologies. \\n\\nI think the key points to include in the summary are the strategic advantages, the technical aspects, the geopolitical implications, and the ethical considerations. I should make sure the summary is concise but covers all these areas without getting too detailed. Maybe start with what MIRV is, then its role in deterrence and defense, followed by its implications on global security and ethics, and conclude with its ongoing development and future prospects.\\n\\nI should also make sure the language is clear and straightforward, avoiding jargon as much as possible. Since the user is a technical writer, the summary should be professional but accessible to a broad audience. I need to avoid any markdown and keep it in plain text, as per the instructions.\\n\\nLet me try to outline the summary:\\n\\n1. Introduction to MIRV technology.\\n2. Strategic deterrence and overwhelming missile defenses.\\n3. Balance of power among nuclear states.\\n4. Technical complexity and engineering challenges.\\n5. Global security implications and arms control.\\n6. Ethical concerns regarding increased destructive potential.\\n7. Modern developments and updates in MIRV systems.\\n8. Role in naval warfare and second-strike capability.\\n9. Impact on missile defense advancements.\\n10. Economic considerations and cost implications.\\n11. Future advancements and potential developments.\\n\\nNow, I'll condense these points into a concise summary, ensuring each key aspect is covered without being too lengthy. I'll make sure each sentence flows logically to the next, providing a clear overview of MIRV's role in modern warfare.\\n</think>\\n\\n**Summary of MIRV Technology in Modern Warfare**\\n\\nMIRV (Multiple Independently Targetable Reentry Vehicle) technology enables a single missile to carry multiple warheads, each targeting different locations. This capability enhances strategic deterrence by threatening significant retaliation, thus discouraging adversarial attacks. MIRV also overwhelms missile defenses, increasing the likelihood of successful strikes despite defensive measures.\\n\\nThe technology maintains a balance of power among nuclear states, ensuring effective retaliation capabilities. However, it requires advanced engineering for precise guidance systems. Globally, MIRV's proliferation risks destabilizing security and complicating arms control, while its ethical implications highlight the potential for massive destruction.\\n\\nModern developments, such as the U.S. GBSD program and Russian ICBMs, demonstrate ongoing reliance on MIRV. Submarine-launched missiles provide a survivable second-strike capability, enhancing deterrence. MIRV's complexity drives advancements in both offensive and defensive technologies, though its high costs pose economic challenges.\\n\\nIn conclusion, MIRV is a critical technology in modern warfare, offering strategic advantages but also raising ethical, economic, and global security concerns. Its continuous development underscores its enduring role in geopolitical strategies.\", additional_kwargs={}, response_metadata={'token_usage': {'completion_tokens': 1312, 'prompt_tokens': 593, 'total_tokens': 1905, 'completion_time': 5.366601392, 'prompt_time': 0.045482629, 'queue_time': 0.23190328100000002, 'total_time': 5.412084021}, 'model_name': 'deepseek-r1-distill-llama-70b', 'system_fingerprint': 'fp_1bbe7845ec', 'service_tier': 'on_demand', 'finish_reason': 'stop', 'logprobs': None}, id='run--ed2a501b-c50e-4676-b03a-1a0639db8a29-0', usage_metadata={'input_tokens': 593, 'output_tokens': 1312, 'total_tokens': 1905})]}"
      ]
     },
     "execution_count": 11,
     "metadata": {},
     "output_type": "execute_result"
    }
   ],
   "source": [
    "final_workflow.invoke({\"messages\":\"Research about the use case of MIRV Technology in modern warfare.\"})"
   ]
  },
  {
   "cell_type": "code",
   "execution_count": 12,
   "id": "e25e1f29",
   "metadata": {},
   "outputs": [
    {
     "name": "stdout",
     "output_type": "stream",
     "text": [
      "{'messages': [HumanMessage(content='Research about the use case of MIRV Technology in modern warfare.', additional_kwargs={}, response_metadata={}, id='2cead5a1-3c22-4a10-b808-4db13b32f883'),\n",
      "              AIMessage(content=\"To address the use case of MIRV (Multiple Independently Targetable Reentry Vehicle) Technology in modern warfare, we must consider several key aspects:\\n\\n1. **Strategic Advantages**: MIRV technology allows a single missile to deliver multiple warheads, each targeting different locations. This increases the efficiency and lethality of a missile strike, making it harder for defense systems to intercept all incoming warheads.\\n\\n2. **Countries Utilizing MIRV**: The United States, Russia, and China are prominent users of MIRV technology. Each employs it within their strategic doctrines to maintain deterrence and ensure the effectiveness of their nuclear forces against evolving missile defense systems.\\n\\n3. **Impact on Global Security**: MIRV technology complicates arms control efforts by potentially increasing warhead numbers without expanding missile counts. It also heightens the risk of escalation due to the inherent capacity for massive strikes.\\n\\n4. **Technical Functionality**: MIRV involves deploying multiple warheads from a missile post-launch, each guided to separate targets using advanced systems, requiring precise engineering and guidance.\\n\\n5. **Ethical Considerations**: The increased destructive potential of MIRV technology raises ethical concerns, as it exacerbates the severity of nuclear conflict consequences.\\n\\n6. **Recent Developments**: Modernization efforts, such as the U.S. Ground Based Strategic Deterrent (GBSD) and Russia's new ICBMs, indicate ongoing reliance on MIRV technology for strategic deterrence.\\n\\n7. **Role in Naval Warfare**: Submarine-launched ballistic missiles (SLBMs) with MIRV capabilities enhance second-strike capabilities, providing a stealthier and more resilient deterrent.\\n\\n8. **Implications for Non-Nuclear States**: The proliferation of MIRV technology could destabilize regions by prompting arms races or providing a false sense of security.\\n\\nIn conclusion, MIRV technology remains a critical component of modern nuclear strategy, offering strategic advantages but also posing significant ethical and security challenges.\", additional_kwargs={'reasoning_content': \"Okay, so the user is asking about the use case of MIRV Technology in modern warfare. I need to figure out how to approach this. First, I should understand what MIRV is. MIRV stands for Multiple Independently Targetable Reentry Vehicle. It's a technology used in missiles where a single missile can carry multiple warheads, each capable of hitting different targets. That makes the missile more efficient and harder to defend against.\\n\\nNow, the user wants to know how this technology is used in modern warfare. I should consider the strategic implications. MIRV technology allows a country to deploy multiple warheads from one missile, which can overwhelm missile defense systems. This is a key point because it affects the balance of power and deterrence strategies.\\n\\nI should also think about which countries currently use MIRV technology. The United States, Russia, and China are known to have MIRV-capable missiles. Each of these countries has different strategic doctrines, so the use of MIRV might vary. For example, the US might use it to maintain a strategic deterrent, while Russia could employ it to ensure their nuclear forces remain effective against expanding missile defense systems.\\n\\nAnother aspect is the impact on global security. MIRV technology can increase the number of nuclear warheads without increasing the number of missiles, which complicates arms control agreements. It also raises the risk of escalation because the potential for a massive strike is inherent in the technology.\\n\\nI should also consider the technical side. How does MIRV technology work? It involves the missile deploying multiple warheads after reaching space, each guided to a separate target. This requires advanced guidance systems and precise engineering to ensure each warhead hits its intended mark.\\n\\nAdditionally, I need to think about the ethical implications. MIRV technology increases the destructive potential of nuclear weapons, making the consequences of their use even more severe. This could lead to hesitancy in their use but also might make other nations feel threatened, prompting an arms race.\\n\\nI should also look into recent developments. Are countries modernizing their MIRV systems? For instance, the US has been working on the Ground Based Strategic Deterrent (GBSD) program, which might include MIRV technology. Similarly, Russia has been developing new ICBMs with MIRV capabilities.\\n\\nMoreover, the role of MIRV in naval warfare shouldn't be overlooked. Submarine-launched ballistic missiles (SLBMs) can also be equipped with MIRV, providing a second-strike capability that's harder to detect and destroy.\\n\\nI should also consider the perspective of non-nuclear states. The proliferation of MIRV technology could destabilize regions by providing a false sense of security or encouraging other nations to develop similar capabilities.\\n\\nIn summary, to answer the user's query, I need to cover the strategic advantages, the countries using it, the impact on global security, technical aspects, ethical considerations, and recent developments. This comprehensive approach will provide a thorough understanding of MIRV's role in modern warfare.\\n\"}, response_metadata={'token_usage': {'completion_tokens': 1015, 'prompt_tokens': 156, 'total_tokens': 1171, 'completion_time': 4.02050314, 'prompt_time': 0.017334163, 'queue_time': 0.231666088, 'total_time': 4.037837303}, 'model_name': 'deepseek-r1-distill-llama-70b', 'system_fingerprint': 'fp_1bbe7845ec', 'service_tier': 'on_demand', 'finish_reason': 'stop', 'logprobs': None}, id='run--adde1140-4461-4405-ab6c-466fd358995f-0', usage_metadata={'input_tokens': 156, 'output_tokens': 1015, 'total_tokens': 1171}),\n",
      "              AIMessage(content=\" Its continued development underscores the need for robust arms control measures and diplomatic efforts to mitigate global nuclear risks.\\n</think>\\n\\n**Summary of Findings on MIRV Technology in Modern Warfare**\\n\\nMIRV (Multiple Independently Targetable Reentry Vehicle) technology plays a pivotal role in contemporary military strategies, primarily within nuclear arsenals. Key findings include:\\n\\n1. **Strategic Efficiency**: MIRV allows a single missile to deploy multiple warheads, each targeting distinct locations, enhancing strike efficiency and complicating interception by defense systems.\\n\\n2. **Global Utilization**: Major nuclear powers such as the United States, Russia, and China employ MIRV technology to bolster their deterrence capabilities and counter missile defense systems.\\n\\n3. **Security Implications**: While MIRV enhances deterrence, it also poses challenges for arms control, potentially increasing warhead numbers and escalating nuclear risks.\\n\\n4. **Technical Sophistication**: The technology involves advanced engineering to separate and guide warheads to different targets post-launch.\\n\\n5. **Ethical Concerns**: The heightened destructive capacity of MIRV raises ethical issues, intensifying the potential consequences of nuclear conflict.\\n\\n6. **Modern Developments**: Ongoing modernization efforts, such as the U.S. GBSD program and Russia's new ICBMs, highlight the continued relevance of MIRV in strategic deterrence.\\n\\n7. **Naval Applications**: Submarine-launched ballistic missiles equipped with MIRV enhance the resilience of second-strike capabilities, adding depth to naval deterrence.\\n\\n8. **Regional Stability**: The proliferation of MIRV technology could destabilize regions by spurring arms races or offering a misleading sense of security to non-nuclear states.\\n\\nIn essence, MIRV technology remains integral to nuclear strategy, offering strategic advantages while presenting significant ethical and security challenges. Its ongoing development emphasizes the need for robust arms control and diplomatic initiatives to mitigate global nuclear risks.\", additional_kwargs={}, response_metadata={'token_usage': {'completion_tokens': 385, 'prompt_tokens': 434, 'total_tokens': 819, 'completion_time': 1.4, 'prompt_time': 0.03556136, 'queue_time': 0.23171050000000004, 'total_time': 1.43556136}, 'model_name': 'deepseek-r1-distill-llama-70b', 'system_fingerprint': 'fp_1bbe7845ec', 'service_tier': 'on_demand', 'finish_reason': 'stop', 'logprobs': None}, id='run--448b5a63-17fc-4492-ac06-ebe00c2d546b-0', usage_metadata={'input_tokens': 434, 'output_tokens': 385, 'total_tokens': 819})]}\n"
     ]
    }
   ],
   "source": [
    "from pprint import pprint\n",
    "pprint(final_workflow.invoke({\"messages\":\"Research about the use case of MIRV Technology in modern warfare.\"}))"
   ]
  },
  {
   "cell_type": "markdown",
   "id": "20db59f2",
   "metadata": {},
   "source": [
    "## Supervised MultiAI Agent Architecture"
   ]
  },
  {
   "cell_type": "code",
   "execution_count": 13,
   "id": "ff5c5182",
   "metadata": {},
   "outputs": [],
   "source": [
    "from typing import TypedDict, Annotated, List, Literal, Dict, Any\n",
    "from langchain.prompts import ChatPromptTemplate\n",
    "from langchain_core.messages import BaseMessage, AIMessage, HumanMessage, SystemMessage\n",
    "from langgraph.checkpoint.memory import MemorySaver\n",
    "import random\n",
    "from datetime import datetime"
   ]
  },
  {
   "cell_type": "code",
   "execution_count": 14,
   "id": "3c45c6c9",
   "metadata": {},
   "outputs": [],
   "source": [
    "## State Defination\n",
    "\n",
    "class SupervisorState(MessagesState):\n",
    "    \"State for the supervisor multi agent system.\"\n",
    "    current_agent: str=\"\" # The agent currently being supervised\n",
    "    task_assignments:Dict[str,List[str]]={} # Task assignments for each agent\n",
    "    agent_outputs:Dict[str,Any]={}\n",
    "    workflow_stage:str=\"initial\"  # The current stage of the workflow\n",
    "    iteration_count:int=0  # Number of iterations completed\n",
    "    max_iterations: int=10\n",
    "    final_output: str=\"\""
   ]
  },
  {
   "cell_type": "code",
   "execution_count": 15,
   "id": "09e15462",
   "metadata": {},
   "outputs": [],
   "source": [
    "# Next agent state\n",
    "class SupervisorState(MessagesState):\n",
    "    \"State for the supervisor multi agent system.\"\n",
    "    next_agent: str=\"\"  # The agent currently being supervised\n",
    "    research_data: str = \"\"  # Data collected by the researcher\n",
    "    analysis:str=\"\"\n",
    "    final_report:str=\"\"\n",
    "    task_complete:bool=False  # Flag to indicate if the task is complete\n",
    "    current_task:str=\"\"\n",
    "    "
   ]
  },
  {
   "cell_type": "code",
   "execution_count": 16,
   "id": "dae7d591",
   "metadata": {},
   "outputs": [],
   "source": [
    "## Supervisor with groq LLM\n",
    "\n",
    "def create_supervisor_chain():\n",
    "    \"Creates a supervisor decision-making chain.\"\n",
    "\n",
    "    supervisor_prompt=ChatPromptTemplate.from_messages([\n",
    "        (\"system\",\"\"\" you are a supervisor managing a team of agents:\n",
    "         \n",
    "1. Researcher: Gathers information and data.\n",
    "2. Analyst: Analyzes the data and provides insights.\n",
    "3. Writer: Creates a final report and summaries based on the analysis.\n",
    "\n",
    "Based on current state and conversation, decide which agent should work next.\n",
    "If the task is complete, respond with \"done\".\n",
    "\n",
    "Current state:\n",
    "- Has research data:{has_research}\n",
    "- Has analysis:{has_analysis}\n",
    "- Has final report:{has_report}\n",
    "\n",
    "Respond with only the agent name (Researcher, Analyst, Writer) or \"done\" if the task is complete.\n",
    "\"\"\"),\n",
    "\n",
    "         (\"human\",\"{task}\")\n",
    "    ])\n",
    "    \n",
    "    return supervisor_prompt | llm\n"
   ]
  },
  {
   "cell_type": "code",
   "execution_count": 17,
   "id": "b335cbcc",
   "metadata": {},
   "outputs": [],
   "source": [
    "# # Supervisor Agent.\n",
    "\n",
    "# def supervisor_agent(state:SupervisorState)->  Dict:\n",
    "\n",
    "#     \"\"\"Supervisor_agent decides next agent using LLM.\"\"\"\n",
    "\n",
    "#     messages=state['messages']\n",
    "#     task=messages[-1].content if messages else \"No task\"\n",
    "\n",
    "#     # Check if the task is complete\n",
    "#     has_research = bool(state.get(\"research_data\",\"\"))\n",
    "#     has_analysis = bool(state.get(\"analysis\",\"\"))\n",
    "#     has_report = bool(state.get(\"final_report\",\"\"))\n",
    "\n",
    "#     # Get LLM Decision\n",
    "#     chain=create_supervisor_chain()\n",
    "#     decision=chain.invoke({\n",
    "#         \"task\": task,\n",
    "#         \"has_research\": has_research,\n",
    "#         \"has_analysis\": has_analysis,\n",
    "#         \"has_report\": has_report\n",
    "#     })\n",
    "\n",
    "#     # Parse the decision\n",
    "#     decision_text= decision.content.strip().lower()\n",
    "#     print(f\"Supervisor Decision: {decision_text}\")\n",
    "\n",
    "#     # Determine next agent based on decision\n",
    "#     if \"done\" in decision_text or has_report:\n",
    "#         next_agent = \"END\"\n",
    "#         supervisor_msg='All the tasks are completed. Great job team!'\n",
    "\n",
    "#     elif \"Researcher\" in decision_text or not has_research:\n",
    "#         next_agent = \"Researcher\"\n",
    "#         supervisor_msg=\"Supervisor: Researcher, please gather information on the topic. Assigning to Researcher agent....\"\n",
    "\n",
    "#     elif \"Analyst\" in decision_text or (has_research and not has_analysis):\n",
    "#         next_agent = \"Analyst\"\n",
    "#         supervisor_msg=\"Supervisor: Analyst, please analyze the research data. Assigning to Analyst agent....\"\n",
    "\n",
    "#     elif \"Writer\" in decision_text or (has_analysis and not has_report):\n",
    "#         next_agent = \"Writer\"\n",
    "#         supervisor_msg=\"Supervisor: Writer, please create a final report based on the analysis. Assigning to Writer agent....\"\n",
    "\n",
    "#     else:\n",
    "#         next_agent = \"end\"\n",
    "#         supervisor_msg=\"Supervisor: Task seems completed.\"\n",
    "\n",
    "\n",
    "#     return{\n",
    "#         \"messages\":[AIMessage(content=supervisor_msg)],\n",
    "#         \"next_agent\": next_agent,\n",
    "#         \"current_task\": task,\n",
    "#     }\n",
    "\n",
    "from langchain_core.messages import AIMessage\n",
    "\n",
    "def supervisor_agent(state: SupervisorState) -> Dict:\n",
    "    \"\"\"Supervisor_agent decides next agent using LLM.\"\"\"\n",
    "    \n",
    "    messages = state[\"messages\"]\n",
    "    task = messages[-1].content if messages else \"No task\"\n",
    "\n",
    "    # Determine current stage\n",
    "    has_research = bool(state.get(\"research_data\", \"\"))\n",
    "    has_analysis = bool(state.get(\"analysis\", \"\"))\n",
    "    has_report = bool(state.get(\"final_report\", \"\"))\n",
    "\n",
    "    # Get decision from LLM\n",
    "    chain = create_supervisor_chain()\n",
    "    decision = chain.invoke({\n",
    "        \"task\": task,\n",
    "        \"has_research\": has_research,\n",
    "        \"has_analysis\": has_analysis,\n",
    "        \"has_report\": has_report\n",
    "    })\n",
    "\n",
    "    decision_text = decision.content.strip().lower()\n",
    "    print(f\"Supervisor Decision: {decision_text}\")\n",
    "\n",
    "    # Tighten up decision logic\n",
    "    if decision_text in [\"done\", \"end\"] or (has_research and has_analysis and has_report):\n",
    "        next_agent = \"END\"\n",
    "        supervisor_msg = \"Supervisor: All tasks are completed. Great job team!\"\n",
    "\n",
    "    elif decision_text == \"researcher\" or not has_research:\n",
    "        next_agent = \"researcher\"\n",
    "        supervisor_msg = \"Supervisor: Researcher, please gather information on the topic.\"\n",
    "\n",
    "    elif decision_text == \"analyst\" or (has_research and not has_analysis):\n",
    "        next_agent = \"analyst\"\n",
    "        supervisor_msg = \"Supervisor: Analyst, please analyze the research data.\"\n",
    "\n",
    "    elif decision_text == \"writer\" or (has_analysis and not has_report):\n",
    "        next_agent = \"writer\"\n",
    "        supervisor_msg = \"Supervisor: Writer, please prepare the final report.\"\n",
    "\n",
    "    else:\n",
    "        next_agent = \"supervisor\"\n",
    "        supervisor_msg = \"Supervisor: Re-evaluating... no valid task decision.\"\n",
    "\n",
    "    return {\n",
    "        \"messages\": messages + [AIMessage(content=supervisor_msg)],\n",
    "        \"next_agent\": next_agent,\n",
    "        \"current_task\": task\n",
    "    }\n",
    "\n"
   ]
  },
  {
   "cell_type": "code",
   "execution_count": 18,
   "id": "91088e72",
   "metadata": {},
   "outputs": [],
   "source": [
    "# Agent 1 Researcher Agent\n",
    "\n",
    "def researcher_agent(state:SupervisorState) -> Dict:\n",
    "    \"\"\" Researcher agent uses Groq to gather information.\"\"\"\n",
    "\n",
    "    task=state.get(\"current_task\", \"research topic\")\n",
    "\n",
    "    # create a research prompt\n",
    "    research_prompt=f\"\"\"As a Expert Researcher, your task is to gather information on the topic: {task}.\n",
    "\n",
    "    Include:\n",
    "    1. Key facts and Background information\n",
    "    2. Current trends and developments\n",
    "    3. Important statistics or data points\n",
    "    4. Notable examples or case studies.\n",
    "\n",
    "    Be concise but thorough in your research.\"\"\"\n",
    "\n",
    "    # Get research from LLM\n",
    "    research_response= llm.invoke([HumanMessage(content=research_prompt)])\n",
    "    research_data=research_response.content\n",
    "\n",
    "    # Create agent message\n",
    "    agent_message=f\" Researcher: I have completed the research on {task}. Here are my findings:\\n\\n{research_data}\"\n",
    "\n",
    "    return {\n",
    "        \"messages\":state['messages']+[AIMessage(content=agent_message)],\n",
    "        \"research_data\": research_data,\n",
    "        \"next_agent\":\"supervisor\",  # Route to supervisor for next steps\n",
    "    }"
   ]
  },
  {
   "cell_type": "code",
   "execution_count": 19,
   "id": "37c79a9e",
   "metadata": {},
   "outputs": [],
   "source": [
    "# Agent 2 Analyst Agent\n",
    "\n",
    "def analyst_agent(state:SupervisorState) -> Dict:\n",
    "    \"\"\"Analyst agent analyzes the research data.\"\"\"\n",
    "\n",
    "    research_data = state.get(\"research_data\",\"\")\n",
    "    task=state.get(\"current_task\",\"\")\n",
    "\n",
    "    #Create analysis prompt\n",
    "    analyst_agent_prompt=f\"\"\" As a Expert Analyst, analyze the research data and provide insights.\n",
    "\n",
    "    Research data: {research_data}\n",
    "\n",
    "    provide:\n",
    "    1. Key insights and patterns\n",
    "    2. Stratergic implications\n",
    "    3. Risk and opportunities\n",
    "    4. Recommendations\n",
    "    \n",
    "    focus on actionable insights related to: {task}\"\"\"\n",
    "\n",
    "    # Get analysis from LLM\n",
    "    analysis_response=llm.invoke([HumanMessage(content=analyst_agent_prompt)])\n",
    "    analysis= analysis_response.content\n",
    "\n",
    "    # create agent message\n",
    "    agent_message=f'Analyst: I have completed the analysis.\\n\\n insights:\\n{analysis[:400]}...'\n",
    "\n",
    "    return {\n",
    "        \"messages\": [AIMessage(content=agent_message)],\n",
    "        \"analysis\": analysis,\n",
    "        \"next_agent\": \"supervisor\"\n",
    "    }\n",
    "\n",
    "\n"
   ]
  },
  {
   "cell_type": "code",
   "execution_count": 20,
   "id": "5ddaedd5",
   "metadata": {},
   "outputs": [],
   "source": [
    "# Agent 3: Writer Agent\n",
    "\n",
    "from langchain_core.messages import HumanMessage, AIMessage\n",
    "from datetime import datetime\n",
    "\n",
    "def writer_agent(state: SupervisorState) -> Dict:\n",
    "    \"\"\"Writer agent that creates a final executive report based on research and analysis.\"\"\"\n",
    "\n",
    "    research_data = state.get(\"research_data\", \"\")\n",
    "    analysis = state.get(\"analysis\", \"\")\n",
    "    task = state.get(\"current_task\", \"the task\")\n",
    "\n",
    "    # Build the writing prompt\n",
    "    writing_prompt = f\"\"\"As a professional writer, create an executive report based on:\n",
    "\n",
    "Task: {task}\n",
    "Research findings: {research_data[:1000]}\n",
    "Analysis: {analysis[:1000]}\n",
    "\n",
    "Ensure the report is clear, concise, and well-structured with:\n",
    "1. Executive Summary\n",
    "2. Key Findings\n",
    "3. Analysis and Insights\n",
    "4. Conclusion\n",
    "5. Recommendations\n",
    "\n",
    "Keep it professional and concise.\n",
    "\"\"\"\n",
    "\n",
    "    #  Call LLM to generate report\n",
    "    response = llm.invoke([HumanMessage(content=writing_prompt)])\n",
    "    report = response.content\n",
    "\n",
    "    # Format final report\n",
    "    final_report = f\"\"\"\n",
    "FINAL REPORT\n",
    "{'='*50}\n",
    "Generated on: {datetime.now().strftime('%Y-%m-%d %H:%M:%S')}\n",
    "Topic: {task}\n",
    "{'='*50}\n",
    "\n",
    "{report}\n",
    "\n",
    "{'='*50}\n",
    "Report compiled by Multi-Agent AI system powered by Groq LLM.\n",
    "\"\"\"\n",
    "\n",
    "    return {\n",
    "        \"final_report\": final_report,\n",
    "        \"messages\": state[\"messages\"] + [AIMessage(content=\"Writer: Report completed!\\n\\n\" + final_report)],\n",
    "        \"next_agent\": \"supervisor\",\n",
    "        \"task_complete\": True\n",
    "    }\n"
   ]
  },
  {
   "cell_type": "code",
   "execution_count": 21,
   "id": "16a139ad",
   "metadata": {},
   "outputs": [],
   "source": [
    "# Router function\n",
    "\n",
    "def router(state:SupervisorState)-> Literal['supervisor', 'researcher', 'analyst', 'writer', '__end__']:\n",
    "    \"\"\"Router function to determine next agent based on state.\"\"\"\n",
    "    \n",
    "    next_agent=state.get('next_agent','supervisor')\n",
    "\n",
    "    if next_agent.upper() == 'END' or state.get('task_complete', False):\n",
    "        return 'END'  # End the workflow if task is complete\n",
    "    \n",
    "    if next_agent in ['supervisor','researcher','analyst','writer']:\n",
    "        return next_agent\n",
    "    \n",
    "    return \"supervisor\"  # Default to supervisor if no valid next agent is found"
   ]
  },
  {
   "cell_type": "code",
   "execution_count": 22,
   "id": "ac9d59c7",
   "metadata": {},
   "outputs": [],
   "source": [
    "# Create workflow \n",
    "workflow= StateGraph(SupervisorState)\n",
    "\n",
    "# Add nodes\n",
    "workflow.add_node('supervisor', supervisor_agent)\n",
    "workflow.add_node('researcher', researcher_agent)\n",
    "workflow.add_node('analyst', analyst_agent) \n",
    "workflow.add_node('writer', writer_agent)\n",
    "\n",
    "# set entry point\n",
    "\n",
    "workflow.set_entry_point('supervisor')\n",
    "\n",
    "# Add routing\n",
    "for node in ['supervisor', 'researcher', 'analyst', 'writer']:\n",
    "    workflow.add_conditional_edges(\n",
    "         node, \n",
    "         router,\n",
    "         {\n",
    "                \"supervisor\": \"supervisor\",\n",
    "                \"researcher\": \"researcher\",\n",
    "                \"analyst\": \"analyst\",\n",
    "                \"writer\": \"writer\",\n",
    "                \"END\": END\n",
    "         }\n",
    "                      \n",
    "    )\n",
    "\n",
    "graph= workflow.compile()\n"
   ]
  },
  {
   "cell_type": "code",
   "execution_count": 23,
   "id": "55cce8db",
   "metadata": {},
   "outputs": [
    {
     "data": {
      "image/png": "[encoded data removed]",
      "text/plain": [
       "<langgraph.graph.state.CompiledStateGraph object at 0x000001957037D7D0>"
      ]
     },
     "execution_count": 23,
     "metadata": {},
     "output_type": "execute_result"
    }
   ],
   "source": [
    "graph"
   ]
  },
  {
   "cell_type": "code",
   "execution_count": 24,
   "id": "39f4b6ce",
   "metadata": {},
   "outputs": [
    {
     "name": "stdout",
     "output_type": "stream",
     "text": [
      "Supervisor Decision: to address the role of rice and wheat in diabetic patients, we need to consider several factors:\n",
      "\n",
      "1. **glycemic index (gi):** \n",
      "   - white rice generally has a high gi, which can cause rapid blood sugar spikes. in contrast, whole wheat tends to have a lower gi, making it a more suitable option for diabetics.\n",
      "   - specific types like basmati rice may have a lower gi compared to jasmine rice, and whole wheat products are preferable over refined ones.\n",
      "\n",
      "2. **fiber content:**\n",
      "   - whole wheat typically has higher fiber content than white rice, aiding in slower digestion and absorption, thus stabilizing blood sugar levels.\n",
      "   - brown rice offers more fiber than white rice, making it a better choice for diabetics.\n",
      "\n",
      "3. **portion control:**\n",
      "   - even high gi foods can be manageable in small portions. balancing these carbs with protein and healthy fats can help moderate blood sugar spikes.\n",
      "\n",
      "4. **preparation and additions:**\n",
      "   - incorporating protein or healthy fats into meals with rice or wheat can slow carb absorption, benefiting blood sugar control.\n",
      "\n",
      "5. **alternatives:**\n",
      "   - exploring lower gi grains like quinoa or barley might offer additional benefits for blood sugar management.\n",
      "\n",
      "6. **guidelines:**\n",
      "   - consulting recommendations from health organizations such as the american diabetes association can provide evidence-based guidance on carbohydrate choices for diabetics.\n",
      "\n",
      "by evaluating these aspects, we can determine how rice and wheat fit into a balanced diet for diabetic patients, emphasizing mindful portion sizes and healthier preparation methods.\n",
      "Supervisor Decision: the next agent to work should be the analyst to process the research data and provide insights.\n",
      "\n",
      "analyst\n",
      "Supervisor Decision: writer\n"
     ]
    },
    {
     "data": {
      "text/plain": [
       "{'messages': [HumanMessage(content='Role of rice and wheat in diabetic patients', additional_kwargs={}, response_metadata={}, id='edc6db1a-9393-49fa-894b-063c64342faa'),\n",
       "  AIMessage(content='Supervisor: Researcher, please gather information on the topic.', additional_kwargs={}, response_metadata={}, id='d86d4ff9-5da6-46af-b090-4a9cac1d8766'),\n",
       "  AIMessage(content=' Researcher: I have completed the research on Role of rice and wheat in diabetic patients. Here are my findings:\\n\\nThe role of rice and wheat in the diet of diabetic patients is a complex issue that involves understanding their glycemic impact, nutritional content, and cultural significance. Here is a structured summary of the key points:\\n\\n1. **Glycemic Index (GI) and Impact on Blood Sugar:**\\n   - **White Rice:** High GI (around 80), leading to rapid blood sugar spikes.\\n   - **Brown Rice:** Lower GI (around 50), due to higher fiber content, making it a better choice for diabetics.\\n   - **Whole Wheat:** Lower GI (around 30-40) compared to refined wheat, with more fiber and nutrients.\\n\\n2. **Current Trends and Developments:**\\n   - Shift towards ancient grains and alternative flours (e.g., quinoa, almond flour) for better blood sugar control.\\n   - Popularity of low-carb diets to manage diabetes, reducing rice and wheat intake in favor of vegetables and proteins.\\n\\n3. **Nutritional Content Beyond GI:**\\n   - Whole grains provide essential vitamins, minerals, and fiber, aiding in satiety and overall health.\\n   - Portion control is crucial, as even whole grains can affect blood sugar if consumed in excess.\\n\\n4. **Preparation and Pairing:**\\n   - Adding protein or healthy fats to meals can slow digestion and reduce glycemic impact.\\n   - Consideration of different rice varieties and sprouted grains for lower GI.\\n\\n5. **Cultural and Economic Factors:**\\n   - Rice and wheat are central in many cultures, making dietary changes challenging.\\n   - Public health campaigns promoting whole grains can aid in diabetes management.\\n   - Accessibility and cost of whole grains can be barriers in some regions.\\n\\n6. **Statistics and Case Studies:**\\n   - Studies show substituting white rice with brown rice improves blood sugar levels.\\n   - Research on whole wheat vs. refined wheat showing better glycemic control.\\n   - Data on the impact of dietary changes on hemoglobin A1c levels, a measure of long-term blood sugar control.\\n\\nIn conclusion, managing diabetes involves choosing whole grains over refined ones, considering portion sizes, and being mindful of cultural and economic factors. Current trends and research support the benefits of healthier carbohydrate choices for effective diabetes management.', additional_kwargs={}, response_metadata={}, id='8044f86f-c0a9-41ef-99d5-0ffda89ab3b7'),\n",
       "  AIMessage(content='Supervisor: Analyst, please analyze the research data.', additional_kwargs={}, response_metadata={}, id='f019362c-c8a6-4e49-aa43-c63beb4f4b2a'),\n",
       "  AIMessage(content='Analyst: I have completed the analysis.\\n\\n insights:\\n**Comprehensive Analysis of Rice and Wheat in Diabetic Diets**\\n\\n**1. Key Insights and Patterns:**\\n- **Glycemic Index (GI):** White rice has a high GI (80), while brown rice (GI 50) and whole wheat (GI 30-40) are more suitable for diabetics due to their lower GI and higher fiber content.\\n- **Trends:** Increasing popularity of ancient grains and low-carb diets, reflecting a shift towards blood sugar...', additional_kwargs={}, response_metadata={}, id='090d9429-f1c1-478b-bd3d-01a880e02882'),\n",
       "  AIMessage(content='Supervisor: Writer, please prepare the final report.', additional_kwargs={}, response_metadata={}, id='2571e8c9-221a-4f43-9eca-2ff6486ddc68'),\n",
       "  AIMessage(content=\"Writer: Report completed!\\n\\n\\nFINAL REPORT\\n==================================================\\nGenerated on: 2025-07-31 00:32:45\\nTopic: Analyst: I have completed the analysis.\\n\\n insights:\\n**Comprehensive Analysis of Rice and Wheat in Diabetic Diets**\\n\\n**1. Key Insights and Patterns:**\\n- **Glycemic Index (GI):** White rice has a high GI (80), while brown rice (GI 50) and whole wheat (GI 30-40) are more suitable for diabetics due to their lower GI and higher fiber content.\\n- **Trends:** Increasing popularity of ancient grains and low-carb diets, reflecting a shift towards blood sugar...\\n==================================================\\n\\n**Executive Report: The Role of Rice and Wheat in Diabetic Diets**\\n\\n---\\n\\n**Executive Summary**\\n\\nThis report examines the impact of rice and wheat on diabetic diets, focusing on their glycemic index (GI), nutritional content, and cultural significance. It highlights the benefits of choosing lower GI options like brown rice and whole wheat, and discusses current dietary trends such as the rise of ancient grains and low-carb diets. The report also addresses challenges posed by cultural preferences and economic factors, providing recommendations for healthier choices and policy support.\\n\\n---\\n\\n**Key Findings**\\n\\n1. **Glycemic Index (GI):**\\n   - White rice has a high GI (80), leading to rapid blood sugar spikes.\\n   - Brown rice (GI 50) and whole wheat (GI 30-40) are more suitable due to lower GI and higher fiber content.\\n\\n2. **Trends:**\\n   - Increasing popularity of ancient grains (e.g., quinoa) and alternative flours (e.g., almond flour) for better blood sugar control.\\n   - Growing adoption of low-carb diets, emphasizing vegetables and proteins over grains.\\n\\n3. **Nutritional Content:**\\n   - Whole grains provide essential vitamins, minerals, and fiber, aiding satiety and overall health.\\n\\n4. **Preparation:**\\n   - Adding protein or healthy fats can mitigate glycemic impact.\\n   - Exploring grain varieties can optimize blood sugar control.\\n\\n5. **Cultural and Economic Factors:**\\n   - Cultural staples pose challenges for dietary changes.\\n   - Cost and accessibility are significant barriers in some regions.\\n\\n6. **Statistics:**\\n   - Studies confirm benefits of switching to brown rice and whole wheat for blood sugar management.\\n\\n---\\n\\n**Analysis and Insights**\\n\\nThe glycemic index is crucial for managing blood sugar levels in diabetics. Lower GI foods like brown rice and whole wheat slow digestion, preventing rapid spikes. Current trends reflect a shift towards blood sugar management, with ancient grains offering both nutritional and culinary benefits. Whole grains' fiber content aids satiety and overall health, though portion control remains essential. Preparation methods, such as adding protein or fats, can further mitigate glycemic impact. Cultural and economic factors present challenges, but education and policy support can facilitate healthier choices.\\n\\n---\\n\\n**Conclusion**\\n\\nChoosing appropriate grains is vital for diabetic management. Brown rice and whole wheat offer better glycemic control and nutritional benefits. Addressing cultural and economic barriers is essential for promoting healthier diets. This report underscores the need for informed dietary choices and supportive policies to aid diabetics in managing their condition effectively.\\n\\n---\\n\\n**Recommendations**\\n\\n1. **Grain Selection:**\\n   - Opt for brown rice and whole wheat due to their lower GI and higher fiber content.\\n\\n2. **Portion Control:**\\n   - Monitor carbohydrate intake to maintain blood sugar levels.\\n\\n3. **Preparation Methods:**\\n   - Incorporate protein or healthy fats to reduce glycemic impact.\\n\\n4. **Cultural Adaptation:**\\n   - Develop culturally sensitive dietary guidelines to encourage healthier choices.\\n\\n5. **Economic Support:**\\n   - Implement policies to enhance accessibility and affordability of whole grains.\\n\\n6. **Education and Awareness:**\\n   - Launch public health campaigns to educate on the benefits of whole grains and low-carb diets.\\n\\n7. **Policy and Research:**\\n   - Support research on grain varieties and their impact on diabetes management.\\n\\n---\\n\\nThis report provides a comprehensive overview and actionable recommendations to guide healthier dietary choices for diabetics, considering both nutritional and cultural contexts.\\n\\n==================================================\\nReport compiled by Multi-Agent AI system powered by Groq LLM.\\n\", additional_kwargs={}, response_metadata={}, id='eb7e3b63-6044-4d5e-8bee-bcc1a3884c65')],\n",
       " 'next_agent': 'supervisor',\n",
       " 'research_data': 'The role of rice and wheat in the diet of diabetic patients is a complex issue that involves understanding their glycemic impact, nutritional content, and cultural significance. Here is a structured summary of the key points:\\n\\n1. **Glycemic Index (GI) and Impact on Blood Sugar:**\\n   - **White Rice:** High GI (around 80), leading to rapid blood sugar spikes.\\n   - **Brown Rice:** Lower GI (around 50), due to higher fiber content, making it a better choice for diabetics.\\n   - **Whole Wheat:** Lower GI (around 30-40) compared to refined wheat, with more fiber and nutrients.\\n\\n2. **Current Trends and Developments:**\\n   - Shift towards ancient grains and alternative flours (e.g., quinoa, almond flour) for better blood sugar control.\\n   - Popularity of low-carb diets to manage diabetes, reducing rice and wheat intake in favor of vegetables and proteins.\\n\\n3. **Nutritional Content Beyond GI:**\\n   - Whole grains provide essential vitamins, minerals, and fiber, aiding in satiety and overall health.\\n   - Portion control is crucial, as even whole grains can affect blood sugar if consumed in excess.\\n\\n4. **Preparation and Pairing:**\\n   - Adding protein or healthy fats to meals can slow digestion and reduce glycemic impact.\\n   - Consideration of different rice varieties and sprouted grains for lower GI.\\n\\n5. **Cultural and Economic Factors:**\\n   - Rice and wheat are central in many cultures, making dietary changes challenging.\\n   - Public health campaigns promoting whole grains can aid in diabetes management.\\n   - Accessibility and cost of whole grains can be barriers in some regions.\\n\\n6. **Statistics and Case Studies:**\\n   - Studies show substituting white rice with brown rice improves blood sugar levels.\\n   - Research on whole wheat vs. refined wheat showing better glycemic control.\\n   - Data on the impact of dietary changes on hemoglobin A1c levels, a measure of long-term blood sugar control.\\n\\nIn conclusion, managing diabetes involves choosing whole grains over refined ones, considering portion sizes, and being mindful of cultural and economic factors. Current trends and research support the benefits of healthier carbohydrate choices for effective diabetes management.',\n",
       " 'analysis': '**Comprehensive Analysis of Rice and Wheat in Diabetic Diets**\\n\\n**1. Key Insights and Patterns:**\\n- **Glycemic Index (GI):** White rice has a high GI (80), while brown rice (GI 50) and whole wheat (GI 30-40) are more suitable for diabetics due to their lower GI and higher fiber content.\\n- **Trends:** Increasing popularity of ancient grains and low-carb diets, reflecting a shift towards blood sugar management through dietary changes.\\n- **Nutritional Value:** Whole grains offer essential vitamins, minerals, and fiber, aiding in satiety and overall health, but portion control remains crucial.\\n- **Preparation:** Adding protein or healthy fats can mitigate glycemic impact, and exploring different grain varieties can further optimize blood sugar control.\\n- **Cultural and Economic Factors:** Cultural staples pose challenges for dietary changes, while cost and accessibility are significant barriers in some regions.\\n- **Statistics:** Studies confirm that switching to brown rice and whole wheat improves blood sugar levels and HbA1c, supporting the effectiveness of these dietary adjustments.\\n\\n**2. Strategic Implications:**\\n- **Healthcare Providers:** Should recommend whole grains and educate patients on portion control and beneficial meal preparation techniques.\\n- **Food Industry:** Encouraged to develop innovative whole grain products and alternative flours to meet growing demand.\\n- **Public Health Campaigns:** Necessary to promote dietary changes sensitively, considering cultural contexts to enhance acceptance.\\n- **Policymakers:** Should focus on improving accessibility and affordability of whole grains, possibly through subsidies or partnerships.\\n\\n**3. Risks and Opportunities:**\\n- **Risks:** Cultural resistance to dietary changes and economic barriers limiting access to healthier options.\\n- **Opportunities:** Growing market for alternative grains and the positive impact of well-designed public health campaigns.\\n\\n**4. Recommendations:**\\n- **Promotion of Whole Grains:** Advocate for their inclusion in diets, emphasizing their health benefits.\\n- **Education:** Implement programs to teach portion control and meal preparation techniques to manage glycemic impact.\\n- **Industry Innovation:** Encourage development of affordable, accessible whole grain products.\\n- **Cultural Sensitivity:** Tailor public health campaigns to respect and integrate cultural dietary habits.\\n- **Affordability Initiatives:** Partner governments with food companies to subsidize whole grains, ensuring availability in low-income regions.\\n\\nThis analysis provides a structured approach to managing diabetes through dietary adjustments, offering practical steps for stakeholders to promote healthier choices effectively.',\n",
       " 'final_report': \"\\nFINAL REPORT\\n==================================================\\nGenerated on: 2025-07-31 00:32:45\\nTopic: Analyst: I have completed the analysis.\\n\\n insights:\\n**Comprehensive Analysis of Rice and Wheat in Diabetic Diets**\\n\\n**1. Key Insights and Patterns:**\\n- **Glycemic Index (GI):** White rice has a high GI (80), while brown rice (GI 50) and whole wheat (GI 30-40) are more suitable for diabetics due to their lower GI and higher fiber content.\\n- **Trends:** Increasing popularity of ancient grains and low-carb diets, reflecting a shift towards blood sugar...\\n==================================================\\n\\n**Executive Report: The Role of Rice and Wheat in Diabetic Diets**\\n\\n---\\n\\n**Executive Summary**\\n\\nThis report examines the impact of rice and wheat on diabetic diets, focusing on their glycemic index (GI), nutritional content, and cultural significance. It highlights the benefits of choosing lower GI options like brown rice and whole wheat, and discusses current dietary trends such as the rise of ancient grains and low-carb diets. The report also addresses challenges posed by cultural preferences and economic factors, providing recommendations for healthier choices and policy support.\\n\\n---\\n\\n**Key Findings**\\n\\n1. **Glycemic Index (GI):**\\n   - White rice has a high GI (80), leading to rapid blood sugar spikes.\\n   - Brown rice (GI 50) and whole wheat (GI 30-40) are more suitable due to lower GI and higher fiber content.\\n\\n2. **Trends:**\\n   - Increasing popularity of ancient grains (e.g., quinoa) and alternative flours (e.g., almond flour) for better blood sugar control.\\n   - Growing adoption of low-carb diets, emphasizing vegetables and proteins over grains.\\n\\n3. **Nutritional Content:**\\n   - Whole grains provide essential vitamins, minerals, and fiber, aiding satiety and overall health.\\n\\n4. **Preparation:**\\n   - Adding protein or healthy fats can mitigate glycemic impact.\\n   - Exploring grain varieties can optimize blood sugar control.\\n\\n5. **Cultural and Economic Factors:**\\n   - Cultural staples pose challenges for dietary changes.\\n   - Cost and accessibility are significant barriers in some regions.\\n\\n6. **Statistics:**\\n   - Studies confirm benefits of switching to brown rice and whole wheat for blood sugar management.\\n\\n---\\n\\n**Analysis and Insights**\\n\\nThe glycemic index is crucial for managing blood sugar levels in diabetics. Lower GI foods like brown rice and whole wheat slow digestion, preventing rapid spikes. Current trends reflect a shift towards blood sugar management, with ancient grains offering both nutritional and culinary benefits. Whole grains' fiber content aids satiety and overall health, though portion control remains essential. Preparation methods, such as adding protein or fats, can further mitigate glycemic impact. Cultural and economic factors present challenges, but education and policy support can facilitate healthier choices.\\n\\n---\\n\\n**Conclusion**\\n\\nChoosing appropriate grains is vital for diabetic management. Brown rice and whole wheat offer better glycemic control and nutritional benefits. Addressing cultural and economic barriers is essential for promoting healthier diets. This report underscores the need for informed dietary choices and supportive policies to aid diabetics in managing their condition effectively.\\n\\n---\\n\\n**Recommendations**\\n\\n1. **Grain Selection:**\\n   - Opt for brown rice and whole wheat due to their lower GI and higher fiber content.\\n\\n2. **Portion Control:**\\n   - Monitor carbohydrate intake to maintain blood sugar levels.\\n\\n3. **Preparation Methods:**\\n   - Incorporate protein or healthy fats to reduce glycemic impact.\\n\\n4. **Cultural Adaptation:**\\n   - Develop culturally sensitive dietary guidelines to encourage healthier choices.\\n\\n5. **Economic Support:**\\n   - Implement policies to enhance accessibility and affordability of whole grains.\\n\\n6. **Education and Awareness:**\\n   - Launch public health campaigns to educate on the benefits of whole grains and low-carb diets.\\n\\n7. **Policy and Research:**\\n   - Support research on grain varieties and their impact on diabetes management.\\n\\n---\\n\\nThis report provides a comprehensive overview and actionable recommendations to guide healthier dietary choices for diabetics, considering both nutritional and cultural contexts.\\n\\n==================================================\\nReport compiled by Multi-Agent AI system powered by Groq LLM.\\n\",\n",
       " 'task_complete': True,\n",
       " 'current_task': 'Analyst: I have completed the analysis.\\n\\n insights:\\n**Comprehensive Analysis of Rice and Wheat in Diabetic Diets**\\n\\n**1. Key Insights and Patterns:**\\n- **Glycemic Index (GI):** White rice has a high GI (80), while brown rice (GI 50) and whole wheat (GI 30-40) are more suitable for diabetics due to their lower GI and higher fiber content.\\n- **Trends:** Increasing popularity of ancient grains and low-carb diets, reflecting a shift towards blood sugar...'}"
      ]
     },
     "execution_count": 24,
     "metadata": {},
     "output_type": "execute_result"
    }
   ],
   "source": [
    "graph.invoke({\"messages\": \"Role of rice and wheat in diabetic patients\"})"
   ]
  },
  {
   "cell_type": "code",
   "execution_count": null,
   "id": "335f488e",
   "metadata": {},
   "outputs": [],
   "source": []
  }
 ],
 "metadata": {
  "kernelspec": {
   "display_name": "AgenticLanggraph",
   "language": "python",
   "name": "python3"
  },
  "language_info": {
   "codemirror_mode": {
    "name": "ipython",
    "version": 3
   },
   "file_extension": ".py",
   "mimetype": "text/x-python",
   "name": "python",
   "nbconvert_exporter": "python",
   "pygments_lexer": "ipython3",
   "version": "3.11.9"
  }
 },
 "nbformat": 4,
 "nbformat_minor": 5
}
